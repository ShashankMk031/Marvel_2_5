{
 "cells": [
  {
   "cell_type": "code",
   "execution_count": 1,
   "id": "16af0ca3",
   "metadata": {},
   "outputs": [],
   "source": [
    "#Importing librarires\n",
    "import numpy as np\n",
    "import matplotlib.pyplot as plt\n",
    "from sklearn.linear_model import LinearRegression\n",
    "from sklearn.metrics import mean_squared_error, r2_score\n",
    "import pandas as pd\n"
   ]
  },
  {
   "cell_type": "code",
   "execution_count": 2,
   "id": "3bd69d23",
   "metadata": {},
   "outputs": [],
   "source": [
    "#Dataset \n",
    "from sklearn.datasets import fetch_california_housing\n",
    "from sklearn.model_selection import train_test_split\n",
    "\n",
    "# Load dataset\n",
    "data = fetch_california_housing()\n",
    "X = data.data[:, 0]  # Use 'MedInc' (Median Income) feature\n",
    "y = data.target      # House value\n",
    "\n",
    "# Train-test split\n",
    "X_train, X_test, y_train, y_test = train_test_split(X, y, test_size=0.2, random_state=42)\n"
   ]
  },
  {
   "cell_type": "markdown",
   "id": "11183fdf",
   "metadata": {},
   "source": [
    "## Linear Regression form Sctrach "
   ]
  },
  {
   "cell_type": "code",
   "execution_count": 3,
   "id": "e0eae11c",
   "metadata": {},
   "outputs": [],
   "source": [
    "class LinearRegressionScratch:\n",
    "    def __init__(self):\n",
    "        self.slope = None\n",
    "        self.intercept = None\n",
    "\n",
    "    def fit(self, X, y):\n",
    "        n = len(X)\n",
    "        x_mean = np.mean(X)\n",
    "        y_mean = np.mean(y)\n",
    "        \n",
    "        numerator = sum((X - x_mean) * (y - y_mean))\n",
    "        denominator = sum((X - x_mean)**2)\n",
    "        \n",
    "        self.slope = numerator / denominator\n",
    "        self.intercept = y_mean - self.slope * x_mean\n",
    "\n",
    "    def predict(self, X):\n",
    "        return self.slope * X + self.intercept\n"
   ]
  },
  {
   "cell_type": "code",
   "execution_count": null,
   "id": "9c60628b",
   "metadata": {},
   "outputs": [
    {
     "name": "stdout",
     "output_type": "stream",
     "text": [
      "Slope (scratch): 0.41933849393812556\n",
      "Intercept (scratch): 0.44459729169079387\n"
     ]
    }
   ],
   "source": [
    "#Custom one \n",
    "model_scratch = LinearRegressionScratch()\n",
    "model_scratch.fit(X_train, y_train)\n",
    "\n",
    "y_pred_scratch = model_scratch.predict(X_test)\n",
    "\n",
    "print(f\"Slope (scratch): {model_scratch.slope}\")\n",
    "print(f\"Intercept (scratch): {model_scratch.intercept}\")\n"
   ]
  },
  {
   "cell_type": "code",
   "execution_count": 4,
   "id": "98e2fc9e",
   "metadata": {},
   "outputs": [
    {
     "name": "stdout",
     "output_type": "stream",
     "text": [
      "Slope (sklearn): 0.4193384939381271\n",
      "Intercept (sklearn): 0.4445972916907879\n"
     ]
    }
   ],
   "source": [
    "# Sckit-Learn \n",
    "\n",
    "X_train_reshaped = X_train.reshape(-1, 1)\n",
    "X_test_reshaped = X_test.reshape(-1, 1)\n",
    "\n",
    "model_sklearn = LinearRegression()\n",
    "model_sklearn.fit(X_train_reshaped, y_train)\n",
    "\n",
    "y_pred_sklearn = model_sklearn.predict(X_test_reshaped)\n",
    "\n",
    "print(f\"Slope (sklearn): {model_sklearn.coef_[0]}\")\n",
    "print(f\"Intercept (sklearn): {model_sklearn.intercept_}\")\n"
   ]
  },
  {
   "cell_type": "markdown",
   "id": "8af20c4f",
   "metadata": {},
   "source": [
    "### Evaluate both models "
   ]
  },
  {
   "cell_type": "code",
   "execution_count": 7,
   "id": "75f5352c",
   "metadata": {},
   "outputs": [
    {
     "name": "stdout",
     "output_type": "stream",
     "text": [
      "Custom Scratch Model:\n",
      "  MSE: 0.7091\n",
      "  R2 Score: 0.4589\n",
      "\n",
      "Scikit-learn Model:\n",
      "  MSE: 0.7091\n",
      "  R2 Score: 0.4589\n"
     ]
    }
   ],
   "source": [
    "from sklearn.metrics import mean_squared_error, r2_score\n",
    "\n",
    "# Evaluate Scratch Model\n",
    "mse_scratch = mean_squared_error(y_test, y_pred_scratch)\n",
    "r2_scratch = r2_score(y_test, y_pred_scratch)\n",
    "\n",
    "# Evaluate Scikit-learn Model\n",
    "mse_sklearn = mean_squared_error(y_test, y_pred_sklearn)\n",
    "r2_sklearn = r2_score(y_test, y_pred_sklearn)\n",
    "\n",
    "# Print results\n",
    "print(\"Custom Scratch Model:\")\n",
    "print(f\"  MSE: {mse_scratch:.4f}\")\n",
    "print(f\"  R2 Score: {r2_scratch:.4f}\")\n",
    "\n",
    "print(\"\\nScikit-learn Model:\")\n",
    "print(f\"  MSE: {mse_sklearn:.4f}\")\n",
    "print(f\"  R2 Score: {r2_sklearn:.4f}\")\n"
   ]
  },
  {
   "cell_type": "code",
   "execution_count": null,
   "id": "d1e006b0",
   "metadata": {},
   "outputs": [],
   "source": [
    "plt.figure(figsize=(10, 6))\n",
    "\n",
    "# Scatter plot of actual test data\n",
    "plt.scatter(X_test, y_test, color='blue', alpha=0.5, label='Actual Test Data')\n",
    "\n",
    "# Plot predictions from scratch\n",
    "plt.plot(X_test, y_pred_scratch, color='green', linestyle='--', label='Scratch Prediction')\n",
    "\n",
    "# Plot predictions from sklearn\n",
    "plt.plot(X_test, y_pred_sklearn, color='red', linestyle='-.', label='Sklearn Prediction')\n",
    "\n",
    "plt.legend()\n",
    "plt.title('Linear Regression: Scratch vs Sklearn (California Housing)')\n",
    "plt.xlabel('Median Income (X_test)')\n",
    "plt.ylabel('Median House Value (y)')\n",
    "plt.grid(True)\n",
    "plt.show()\n"
   ]
  }
 ],
 "metadata": {
  "kernelspec": {
   "display_name": "base",
   "language": "python",
   "name": "python3"
  },
  "language_info": {
   "codemirror_mode": {
    "name": "ipython",
    "version": 3
   },
   "file_extension": ".py",
   "mimetype": "text/x-python",
   "name": "python",
   "nbconvert_exporter": "python",
   "pygments_lexer": "ipython3",
   "version": "3.12.7"
  }
 },
 "nbformat": 4,
 "nbformat_minor": 5
}
