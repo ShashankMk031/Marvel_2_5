{
 "cells": [
  {
   "cell_type": "code",
   "execution_count": 1,
   "id": "01edb3f3",
   "metadata": {},
   "outputs": [],
   "source": [
    "#Libraries\n",
    "import numpy as np\n",
    "import matplotlib.pyplot as plt\n",
    "from sklearn.datasets import load_breast_cancer\n",
    "from sklearn.linear_model import LogisticRegression\n",
    "from sklearn.model_selection import train_test_split\n",
    "from sklearn.metrics import accuracy_score, confusion_matrix, classification_report"
   ]
  },
  {
   "cell_type": "code",
   "execution_count": 2,
   "id": "d1b6a7b6",
   "metadata": {},
   "outputs": [],
   "source": [
    "# Load the dataset\"\n",
    "from sklearn.datasets import load_breast_cancer\n",
    "from sklearn.model_selection import train_test_split\n",
    "\n",
    "# Load dataset\n",
    "data = load_breast_cancer()\n",
    "X = data.data[:, 0:1]  # Using only the first feature for visualization simplicity\n",
    "y = data.target        # Binary target (0 = malignant, 1 = benign)\n",
    "\n",
    "# Train-test split\n",
    "X_train, X_test, y_train, y_test = train_test_split(X, y, test_size=0.2, random_state=42)\n"
   ]
  },
  {
   "cell_type": "markdown",
   "id": "e01a87a1",
   "metadata": {},
   "source": [
    "## Logistic regresssion from sctrach"
   ]
  },
  {
   "cell_type": "code",
   "execution_count": 3,
   "id": "90d7b4cf",
   "metadata": {},
   "outputs": [],
   "source": [
    "class LogisticRegressionScratch:\n",
    "    def __init__(self, learning_rate=0.01, n_iters=1000):\n",
    "        self.learning_rate = learning_rate\n",
    "        self.n_iters = n_iters\n",
    "        self.weights = None\n",
    "        self.bias = None\n",
    "\n",
    "    def sigmoid(self, x):\n",
    "        return 1 / (1 + np.exp(-x))\n",
    "\n",
    "    def fit(self, X, y):\n",
    "        n_samples, n_features = X.shape\n",
    "        self.weights = np.zeros(n_features)\n",
    "        self.bias = 0\n",
    "\n",
    "        for _ in range(self.n_iters):\n",
    "            linear_model = np.dot(X, self.weights) + self.bias\n",
    "            y_predicted = self.sigmoid(linear_model)\n",
    "\n",
    "            dw = (1 / n_samples) * np.dot(X.T, (y_predicted - y))\n",
    "            db = (1 / n_samples) * np.sum(y_predicted - y)\n",
    "\n",
    "            self.weights -= self.learning_rate * dw\n",
    "            self.bias -= self.learning_rate * db\n",
    "\n",
    "    def predict(self, X):\n",
    "        linear_model = np.dot(X, self.weights) + self.bias\n",
    "        y_predicted = self.sigmoid(linear_model)\n",
    "        return [1 if i > 0.5 else 0 for i in y_predicted]\n"
   ]
  },
  {
   "cell_type": "code",
   "execution_count": 4,
   "id": "9761929b",
   "metadata": {},
   "outputs": [
    {
     "name": "stdout",
     "output_type": "stream",
     "text": [
      "Scratch Logistic Regression Accuracy: 0.7456140350877193\n"
     ]
    }
   ],
   "source": [
    "# Train and Predict Using Custom Model\n",
    "model_scratch = LogisticRegressionScratch(learning_rate=0.01, n_iters=1000)\n",
    "model_scratch.fit(X_train, y_train)\n",
    "y_pred_scratch = model_scratch.predict(X_test)\n",
    "\n",
    "print(\"Scratch Logistic Regression Accuracy:\", accuracy_score(y_test, y_pred_scratch))\n"
   ]
  },
  {
   "cell_type": "code",
   "execution_count": 5,
   "id": "ca2152c7",
   "metadata": {},
   "outputs": [
    {
     "name": "stdout",
     "output_type": "stream",
     "text": [
      "Sklearn Logistic Regression Accuracy: 0.9122807017543859\n"
     ]
    }
   ],
   "source": [
    "#Train and Predict Using Scikit-learn Logistic Regression\n",
    "model_sklearn = LogisticRegression()\n",
    "model_sklearn.fit(X_train, y_train)\n",
    "y_pred_sklearn = model_sklearn.predict(X_test)\n",
    "\n",
    "print(\"Sklearn Logistic Regression Accuracy:\", accuracy_score(y_test, y_pred_sklearn))\n"
   ]
  },
  {
   "cell_type": "code",
   "execution_count": 6,
   "id": "ce9ebab5",
   "metadata": {},
   "outputs": [
    {
     "name": "stdout",
     "output_type": "stream",
     "text": [
      "==== Scratch Model Evaluation ====\n",
      "[[14 29]\n",
      " [ 0 71]]\n",
      "              precision    recall  f1-score   support\n",
      "\n",
      "           0       1.00      0.33      0.49        43\n",
      "           1       0.71      1.00      0.83        71\n",
      "\n",
      "    accuracy                           0.75       114\n",
      "   macro avg       0.85      0.66      0.66       114\n",
      "weighted avg       0.82      0.75      0.70       114\n",
      "\n",
      "==== Sklearn Model Evaluation ====\n",
      "[[36  7]\n",
      " [ 3 68]]\n",
      "              precision    recall  f1-score   support\n",
      "\n",
      "           0       0.92      0.84      0.88        43\n",
      "           1       0.91      0.96      0.93        71\n",
      "\n",
      "    accuracy                           0.91       114\n",
      "   macro avg       0.91      0.90      0.90       114\n",
      "weighted avg       0.91      0.91      0.91       114\n",
      "\n"
     ]
    }
   ],
   "source": [
    "print(\"==== Scratch Model Evaluation ====\")\n",
    "print(confusion_matrix(y_test, y_pred_scratch))\n",
    "print(classification_report(y_test, y_pred_scratch))\n",
    "\n",
    "print(\"==== Sklearn Model Evaluation ====\")\n",
    "print(confusion_matrix(y_test, y_pred_sklearn))\n",
    "print(classification_report(y_test, y_pred_sklearn))\n"
   ]
  },
  {
   "cell_type": "code",
   "execution_count": 7,
   "id": "0dae824e",
   "metadata": {},
   "outputs": [
    {
     "data": {
      "image/png": "[encoded data removed]",
      "text/plain": [
       "<Figure size 640x480 with 1 Axes>"
      ]
     },
     "metadata": {},
     "output_type": "display_data"
    }
   ],
   "source": [
    "# Visualizing the sigmoid function on a range of inputs\n",
    "x_vals = np.linspace(-10, 10, 100)\n",
    "sigmoid_vals = 1 / (1 + np.exp(-x_vals))\n",
    "\n",
    "plt.plot(x_vals, sigmoid_vals)\n",
    "plt.title(\"Sigmoid Function\")\n",
    "plt.xlabel(\"Input\")\n",
    "plt.ylabel(\"Output\")\n",
    "plt.grid(True)\n",
    "plt.show()\n"
   ]
  },
  {
   "cell_type": "code",
   "execution_count": null,
   "id": "6f703fe6",
   "metadata": {},
   "outputs": [],
   "source": []
  }
 ],
 "metadata": {
  "kernelspec": {
   "display_name": "base",
   "language": "python",
   "name": "python3"
  },
  "language_info": {
   "codemirror_mode": {
    "name": "ipython",
    "version": 3
   },
   "file_extension": ".py",
   "mimetype": "text/x-python",
   "name": "python",
   "nbconvert_exporter": "python",
   "pygments_lexer": "ipython3",
   "version": "3.12.7"
  }
 },
 "nbformat": 4,
 "nbformat_minor": 5
}
